{
 "cells": [
  {
   "cell_type": "code",
   "execution_count": 2,
   "id": "c68cd7bf",
   "metadata": {},
   "outputs": [],
   "source": [
    "from warnings import filterwarnings\n",
    "\n",
    "filterwarnings(\"ignore\")"
   ]
  },
  {
   "cell_type": "code",
   "execution_count": 3,
   "id": "c3b09b31",
   "metadata": {},
   "outputs": [],
   "source": [
    "import pandas as pd\n",
    "import matplotlib.pyplot as plt\n",
    "import networkx as nx\n",
    "import numpy as np\n",
    "\n",
    "plt.rcParams[\"font.family\"] = \"serif\"\n",
    "plt.rcParams[\"font.size\"] = 16\n",
    "plt.rcParams[\"figure.autolayout\"] = True"
   ]
  },
  {
   "cell_type": "code",
   "execution_count": 4,
   "id": "0c1e54c2",
   "metadata": {},
   "outputs": [],
   "source": [
    "category = pd.read_csv(\"Hyper/categories - categories.csv\",index_col = \"Unnamed: 0\")"
   ]
  },
  {
   "cell_type": "code",
   "execution_count": 5,
   "id": "6ab87a2a",
   "metadata": {},
   "outputs": [
    {
     "data": {
      "text/html": [
       "<div>\n",
       "<style scoped>\n",
       "    .dataframe tbody tr th:only-of-type {\n",
       "        vertical-align: middle;\n",
       "    }\n",
       "\n",
       "    .dataframe tbody tr th {\n",
       "        vertical-align: top;\n",
       "    }\n",
       "\n",
       "    .dataframe thead th {\n",
       "        text-align: right;\n",
       "    }\n",
       "</style>\n",
       "<table border=\"1\" class=\"dataframe\">\n",
       "  <thead>\n",
       "    <tr style=\"text-align: right;\">\n",
       "      <th></th>\n",
       "      <th>id</th>\n",
       "      <th>categories</th>\n",
       "    </tr>\n",
       "  </thead>\n",
       "  <tbody>\n",
       "    <tr>\n",
       "      <th>1</th>\n",
       "      <td>704.0001</td>\n",
       "      <td>hep-ph</td>\n",
       "    </tr>\n",
       "    <tr>\n",
       "      <th>2</th>\n",
       "      <td>704.0002</td>\n",
       "      <td>math.CO cs.CG</td>\n",
       "    </tr>\n",
       "    <tr>\n",
       "      <th>3</th>\n",
       "      <td>704.0003</td>\n",
       "      <td>physics.gen-ph</td>\n",
       "    </tr>\n",
       "    <tr>\n",
       "      <th>4</th>\n",
       "      <td>704.0004</td>\n",
       "      <td>math.CO</td>\n",
       "    </tr>\n",
       "    <tr>\n",
       "      <th>5</th>\n",
       "      <td>704.0005</td>\n",
       "      <td>math.CA math.FA</td>\n",
       "    </tr>\n",
       "  </tbody>\n",
       "</table>\n",
       "</div>"
      ],
      "text/plain": [
       "         id       categories\n",
       "1  704.0001           hep-ph\n",
       "2  704.0002    math.CO cs.CG\n",
       "3  704.0003   physics.gen-ph\n",
       "4  704.0004          math.CO\n",
       "5  704.0005  math.CA math.FA"
      ]
     },
     "execution_count": 5,
     "metadata": {},
     "output_type": "execute_result"
    }
   ],
   "source": [
    "category.head()"
   ]
  },
  {
   "cell_type": "code",
   "execution_count": 6,
   "id": "51804a6b",
   "metadata": {},
   "outputs": [
    {
     "data": {
      "text/plain": [
       "1              [hep-ph]\n",
       "2      [math.CO, cs.CG]\n",
       "3      [physics.gen-ph]\n",
       "4             [math.CO]\n",
       "5    [math.CA, math.FA]\n",
       "Name: categories, dtype: object"
      ]
     },
     "execution_count": 6,
     "metadata": {},
     "output_type": "execute_result"
    }
   ],
   "source": [
    "tags = category[\"categories\"].apply(lambda x: x.split())\n",
    "\n",
    "tags[:5]"
   ]
  },
  {
   "cell_type": "code",
   "execution_count": null,
   "id": "dec6b7a0",
   "metadata": {},
   "outputs": [],
   "source": []
  },
  {
   "cell_type": "markdown",
   "id": "2fd08209",
   "metadata": {},
   "source": [
    "# Matrice incidence"
   ]
  },
  {
   "cell_type": "code",
   "execution_count": 7,
   "id": "c8d3ec3a",
   "metadata": {},
   "outputs": [],
   "source": [
    "#\n",
    "\n",
    "tags_u = [item for sublist in tags for item in sublist]\n",
    "\n",
    "tags_u = list(set(tags_u))\n",
    "\n",
    "Nt =len(tags_u)\n",
    "\n",
    "\n",
    "Mt = np.zeros((category.shape[0],Nt))  #matrix(0, nrow(df), Nt)\n",
    "\n",
    "for i in range(Nt):\n",
    "    \n",
    "    Mt[:,i] = category[\"categories\"].str.contains(tags_u[i]).astype(int)\n"
   ]
  },
  {
   "cell_type": "code",
   "execution_count": 8,
   "id": "1f43531e",
   "metadata": {},
   "outputs": [
    {
     "data": {
      "text/plain": [
       "array([[0., 0., 0., 0., 0., 0., 0., 0., 0.],\n",
       "       [0., 0., 0., 0., 0., 0., 0., 0., 0.],\n",
       "       [0., 0., 0., 0., 0., 0., 0., 0., 0.],\n",
       "       [0., 0., 0., 0., 0., 0., 0., 0., 0.],\n",
       "       [0., 0., 0., 0., 0., 0., 0., 0., 0.],\n",
       "       [0., 0., 0., 0., 0., 0., 0., 0., 0.],\n",
       "       [0., 0., 0., 0., 0., 0., 0., 0., 0.],\n",
       "       [0., 0., 0., 0., 0., 0., 0., 0., 0.],\n",
       "       [0., 0., 0., 0., 0., 0., 0., 0., 0.]])"
      ]
     },
     "execution_count": 8,
     "metadata": {},
     "output_type": "execute_result"
    }
   ],
   "source": [
    "Mt[1:10,1:10]"
   ]
  },
  {
   "cell_type": "code",
   "execution_count": 9,
   "id": "d0131b69",
   "metadata": {},
   "outputs": [],
   "source": [
    "from scipy import sparse\n",
    "\n",
    "Mt_sparse = sparse.csc_array(Mt)"
   ]
  },
  {
   "cell_type": "code",
   "execution_count": 10,
   "id": "dc9a0495",
   "metadata": {},
   "outputs": [
    {
     "name": "stdout",
     "output_type": "stream",
     "text": [
      "  (33, 0)\t1.0\n",
      "  (428, 0)\t1.0\n",
      "  (1389, 0)\t1.0\n",
      "  (2131, 0)\t1.0\n",
      "  (3137, 0)\t1.0\n",
      "  (4229, 0)\t1.0\n",
      "  (5059, 0)\t1.0\n",
      "  (5447, 0)\t1.0\n",
      "  (8637, 0)\t1.0\n",
      "  (10254, 0)\t1.0\n",
      "  (10594, 0)\t1.0\n",
      "  (11666, 0)\t1.0\n",
      "  (12289, 0)\t1.0\n",
      "  (12379, 0)\t1.0\n",
      "  (12444, 0)\t1.0\n",
      "  (14248, 0)\t1.0\n",
      "  (14305, 0)\t1.0\n",
      "  (14477, 0)\t1.0\n",
      "  (15721, 0)\t1.0\n",
      "  (15743, 0)\t1.0\n",
      "  (16886, 0)\t1.0\n",
      "  (17414, 0)\t1.0\n",
      "  (17488, 0)\t1.0\n",
      "  (17667, 0)\t1.0\n",
      "  (17671, 0)\t1.0\n",
      "  :\t:\n",
      "  (1083501, 174)\t1.0\n",
      "  (1083612, 174)\t1.0\n",
      "  (1083939, 174)\t1.0\n",
      "  (1084734, 174)\t1.0\n",
      "  (1084782, 174)\t1.0\n",
      "  (1085299, 174)\t1.0\n",
      "  (1085503, 174)\t1.0\n",
      "  (1085725, 174)\t1.0\n",
      "  (1085787, 174)\t1.0\n",
      "  (1086251, 174)\t1.0\n",
      "  (1086692, 174)\t1.0\n",
      "  (1086911, 174)\t1.0\n",
      "  (1087055, 174)\t1.0\n",
      "  (1087255, 174)\t1.0\n",
      "  (1087313, 174)\t1.0\n",
      "  (1087970, 174)\t1.0\n",
      "  (1088233, 174)\t1.0\n",
      "  (1088791, 174)\t1.0\n",
      "  (1088876, 174)\t1.0\n",
      "  (1089188, 174)\t1.0\n",
      "  (1090501, 174)\t1.0\n",
      "  (1090948, 174)\t1.0\n",
      "  (1091255, 174)\t1.0\n",
      "  (1092236, 174)\t1.0\n",
      "  (1254606, 174)\t1.0\n"
     ]
    }
   ],
   "source": [
    "print(Mt_sparse)"
   ]
  },
  {
   "cell_type": "markdown",
   "id": "463a3ced",
   "metadata": {},
   "source": [
    "# Co-occurance matrix"
   ]
  },
  {
   "cell_type": "code",
   "execution_count": 11,
   "id": "3bbb3c06",
   "metadata": {},
   "outputs": [],
   "source": [
    "M_co = Mt_sparse.transpose().dot(Mt_sparse)\n",
    "\n",
    "N_art = list(M_co.diagonal())"
   ]
  },
  {
   "cell_type": "code",
   "execution_count": 12,
   "id": "3f64da4b",
   "metadata": {},
   "outputs": [],
   "source": [
    "M_co = M_co.todense()\n",
    "for i in range(Nt):\n",
    "    M_co[i,i]=0"
   ]
  },
  {
   "cell_type": "code",
   "execution_count": 13,
   "id": "64b00e9f",
   "metadata": {},
   "outputs": [
    {
     "data": {
      "text/plain": [
       "<AxesSubplot: >"
      ]
     },
     "execution_count": 13,
     "metadata": {},
     "output_type": "execute_result"
    },
    {
     "data": {
      "image/png": "[encoded data removed]",
      "text/plain": [
       "<Figure size 640x480 with 1 Axes>"
      ]
     },
     "metadata": {},
     "output_type": "display_data"
    }
   ],
   "source": [
    "import seaborn as sns\n",
    "M_co_small = M_co[1:10,1:10]\n",
    "sns.heatmap(M_co_small, cmap='Reds', annot=True, fmt='g', cbar=False, \n",
    "            linewidths=.5, square=True, xticklabels=True, yticklabels=True)"
   ]
  },
  {
   "cell_type": "code",
   "execution_count": 29,
   "id": "e56f615e",
   "metadata": {},
   "outputs": [
    {
     "data": {
      "text/plain": [
       "<AxesSubplot: >"
      ]
     },
     "execution_count": 29,
     "metadata": {},
     "output_type": "execute_result"
    },
    {
     "data": {
      "image/png": "[encoded data removed]",
      "text/plain": [
       "<Figure size 640x480 with 1 Axes>"
      ]
     },
     "metadata": {},
     "output_type": "display_data"
    }
   ],
   "source": [
    "import matplotlib\n",
    "\n",
    "sns.heatmap(M_co, cmap='Reds', #annot=True, \n",
    "            fmt='g', cbar=False, \n",
    "            #linewidths=.5, square=True, xticklabels=True, yticklabels=True,\n",
    "            vmin=0, vmax=100, \n",
    "           # norm=matplotlib.colors.BoundaryNorm(np.linspace(0,100,101),256)\n",
    "           )\n"
   ]
  },
  {
   "cell_type": "code",
   "execution_count": 15,
   "id": "649cb8a8",
   "metadata": {},
   "outputs": [],
   "source": [
    "from scipy.stats import hypergeom\n",
    "\n",
    "N_universe = Mt.shape[0]\n",
    "M_hyper = np.zeros((Nt, Nt))\n",
    "\n",
    "for i in range(Nt):\n",
    "    nA = N_art[i]\n",
    "    for j in range(i+1, Nt):\n",
    "        nB = N_art[j]\n",
    "        k = M_co[i,j]\n",
    "        p = hypergeom.sf(k, N_universe, nA, nB) + hypergeom.pmf(k, N_universe, nA, nB)\n",
    "        M_hyper[i,j] = p\n",
    "        M_hyper[j,i] = p\n"
   ]
  },
  {
   "cell_type": "code",
   "execution_count": 30,
   "id": "21660d61",
   "metadata": {},
   "outputs": [
    {
     "data": {
      "text/plain": [
       "array([[9.09653904e-319, 1.00000000e+000, 7.63598193e-001,\n",
       "        1.00000000e+000, 1.00000000e+000, 1.00000000e+000,\n",
       "        1.00000000e+000, 1.00000000e+000, 1.00000000e+000],\n",
       "       [1.00000000e+000, 9.09653904e-319, 1.00000000e+000,\n",
       "        1.00000000e+000, 9.99999996e-001, 1.00000000e+000,\n",
       "        1.00000000e+000, 1.00000000e+000, 1.00000000e+000],\n",
       "       [7.63598193e-001, 1.00000000e+000, 9.09653904e-319,\n",
       "        1.00000000e+000, 1.12326017e-003, 1.00000000e+000,\n",
       "        1.38971773e-061, 1.57439793e-019, 9.99784279e-001],\n",
       "       [1.00000000e+000, 1.00000000e+000, 1.00000000e+000,\n",
       "        9.09653904e-319, 1.00000000e+000, 1.00000000e+000,\n",
       "        1.00000000e+000, 1.00000000e+000, 1.00000000e+000],\n",
       "       [1.00000000e+000, 9.99999996e-001, 1.12326017e-003,\n",
       "        1.00000000e+000, 9.09653904e-319, 1.00000000e+000,\n",
       "        2.50598662e-021, 5.48350788e-001, 1.00000000e+000],\n",
       "       [1.00000000e+000, 1.00000000e+000, 1.00000000e+000,\n",
       "        1.00000000e+000, 1.00000000e+000, 9.09653904e-319,\n",
       "        1.00000000e+000, 1.00000000e+000, 1.00000000e+000],\n",
       "       [1.00000000e+000, 1.00000000e+000, 1.38971773e-061,\n",
       "        1.00000000e+000, 2.50598662e-021, 1.00000000e+000,\n",
       "        9.09653904e-319, 4.88808141e-005, 1.00000000e+000],\n",
       "       [1.00000000e+000, 1.00000000e+000, 1.57439793e-019,\n",
       "        1.00000000e+000, 5.48350788e-001, 1.00000000e+000,\n",
       "        4.88808141e-005, 9.09653904e-319, 1.00000000e+000],\n",
       "       [1.00000000e+000, 1.00000000e+000, 9.99784279e-001,\n",
       "        1.00000000e+000, 1.00000000e+000, 1.00000000e+000,\n",
       "        1.00000000e+000, 1.00000000e+000, 9.09653904e-319]])"
      ]
     },
     "execution_count": 30,
     "metadata": {},
     "output_type": "execute_result"
    }
   ],
   "source": [
    "M_hyper[1:10,1:10]"
   ]
  },
  {
   "cell_type": "code",
   "execution_count": 17,
   "id": "7298196c",
   "metadata": {},
   "outputs": [
    {
     "data": {
      "text/plain": [
       "9.09654e-319"
      ]
     },
     "execution_count": 17,
     "metadata": {},
     "output_type": "execute_result"
    }
   ],
   "source": [
    "min(x for x in list(M_hyper.flatten()) if x > 0)"
   ]
  },
  {
   "cell_type": "code",
   "execution_count": 18,
   "id": "60d16bf6",
   "metadata": {},
   "outputs": [],
   "source": [
    "M_hyper[np.array(M_hyper) == 0] = min(x for x in list(M_hyper.flatten()) if x > 0)"
   ]
  },
  {
   "cell_type": "code",
   "execution_count": 19,
   "id": "7909b8cb",
   "metadata": {},
   "outputs": [],
   "source": [
    "M_hyper_log = -np.log10(M_hyper)\n",
    "\n",
    "M_hyper_log[np.array(M_hyper_log) < 0] = 0\n",
    "\n",
    "np.savetxt(\"Hyper/M_hyper.csv\", M_hyper, delimiter=\",\")"
   ]
  },
  {
   "cell_type": "code",
   "execution_count": 20,
   "id": "46099cdf",
   "metadata": {},
   "outputs": [
    {
     "data": {
      "text/html": [
       "<div>\n",
       "<style scoped>\n",
       "    .dataframe tbody tr th:only-of-type {\n",
       "        vertical-align: middle;\n",
       "    }\n",
       "\n",
       "    .dataframe tbody tr th {\n",
       "        vertical-align: top;\n",
       "    }\n",
       "\n",
       "    .dataframe thead th {\n",
       "        text-align: right;\n",
       "    }\n",
       "</style>\n",
       "<table border=\"1\" class=\"dataframe\">\n",
       "  <thead>\n",
       "    <tr style=\"text-align: right;\">\n",
       "      <th></th>\n",
       "      <th>label</th>\n",
       "    </tr>\n",
       "  </thead>\n",
       "  <tbody>\n",
       "    <tr>\n",
       "      <th>0</th>\n",
       "      <td>q-bio.CB</td>\n",
       "    </tr>\n",
       "    <tr>\n",
       "      <th>1</th>\n",
       "      <td>cs.IR</td>\n",
       "    </tr>\n",
       "    <tr>\n",
       "      <th>2</th>\n",
       "      <td>q-bio.BM</td>\n",
       "    </tr>\n",
       "    <tr>\n",
       "      <th>3</th>\n",
       "      <td>q-fin.GN</td>\n",
       "    </tr>\n",
       "    <tr>\n",
       "      <th>4</th>\n",
       "      <td>cond-mat.supr-con</td>\n",
       "    </tr>\n",
       "  </tbody>\n",
       "</table>\n",
       "</div>"
      ],
      "text/plain": [
       "               label\n",
       "0           q-bio.CB\n",
       "1              cs.IR\n",
       "2           q-bio.BM\n",
       "3           q-fin.GN\n",
       "4  cond-mat.supr-con"
      ]
     },
     "execution_count": 20,
     "metadata": {},
     "output_type": "execute_result"
    }
   ],
   "source": [
    "nodes_df = pd.DataFrame(tags_u,columns=['label'])\n",
    "nodes_df.head()"
   ]
  },
  {
   "cell_type": "code",
   "execution_count": 21,
   "id": "c0dcb780",
   "metadata": {},
   "outputs": [],
   "source": [
    "nodes_df.to_csv('Hyper/M_nodes.csv')"
   ]
  },
  {
   "cell_type": "code",
   "execution_count": 22,
   "id": "ee9604d3",
   "metadata": {},
   "outputs": [],
   "source": [
    "co_edges_df = pd.DataFrame(M_co,columns = tags_u, index=tags_u)"
   ]
  },
  {
   "cell_type": "code",
   "execution_count": 23,
   "id": "8b2dce1b",
   "metadata": {},
   "outputs": [],
   "source": [
    "co_edges_df.to_csv('Hyper/co_edges_df.csv')"
   ]
  },
  {
   "cell_type": "code",
   "execution_count": 24,
   "id": "a6c7a811",
   "metadata": {},
   "outputs": [
    {
     "data": {
      "text/html": [
       "<div>\n",
       "<style scoped>\n",
       "    .dataframe tbody tr th:only-of-type {\n",
       "        vertical-align: middle;\n",
       "    }\n",
       "\n",
       "    .dataframe tbody tr th {\n",
       "        vertical-align: top;\n",
       "    }\n",
       "\n",
       "    .dataframe thead th {\n",
       "        text-align: right;\n",
       "    }\n",
       "</style>\n",
       "<table border=\"1\" class=\"dataframe\">\n",
       "  <thead>\n",
       "    <tr style=\"text-align: right;\">\n",
       "      <th></th>\n",
       "      <th>q-bio.CB</th>\n",
       "      <th>cs.IR</th>\n",
       "      <th>q-bio.BM</th>\n",
       "      <th>q-fin.GN</th>\n",
       "      <th>cond-mat.supr-con</th>\n",
       "      <th>math.OC</th>\n",
       "      <th>nucl-th</th>\n",
       "      <th>q-fin.TR</th>\n",
       "      <th>econ.EM</th>\n",
       "      <th>cs.LO</th>\n",
       "      <th>...</th>\n",
       "      <th>physics.comp-ph</th>\n",
       "      <th>q-fin.ST</th>\n",
       "      <th>cs.FL</th>\n",
       "      <th>cs.IT</th>\n",
       "      <th>cs.CL</th>\n",
       "      <th>math.CT</th>\n",
       "      <th>physics.data-an</th>\n",
       "      <th>cond-mat.dis-nn</th>\n",
       "      <th>cs.CR</th>\n",
       "      <th>cs.ET</th>\n",
       "    </tr>\n",
       "  </thead>\n",
       "  <tbody>\n",
       "    <tr>\n",
       "      <th>q-bio.CB</th>\n",
       "      <td>0.0</td>\n",
       "      <td>0.0</td>\n",
       "      <td>33.0</td>\n",
       "      <td>0.0</td>\n",
       "      <td>0.0</td>\n",
       "      <td>6.0</td>\n",
       "      <td>0.0</td>\n",
       "      <td>0.0</td>\n",
       "      <td>0.0</td>\n",
       "      <td>1.0</td>\n",
       "      <td>...</td>\n",
       "      <td>16.0</td>\n",
       "      <td>0.0</td>\n",
       "      <td>0.0</td>\n",
       "      <td>2.0</td>\n",
       "      <td>0.0</td>\n",
       "      <td>0.0</td>\n",
       "      <td>3.0</td>\n",
       "      <td>28.0</td>\n",
       "      <td>1.0</td>\n",
       "      <td>3.0</td>\n",
       "    </tr>\n",
       "    <tr>\n",
       "      <th>cs.IR</th>\n",
       "      <td>0.0</td>\n",
       "      <td>0.0</td>\n",
       "      <td>0.0</td>\n",
       "      <td>5.0</td>\n",
       "      <td>0.0</td>\n",
       "      <td>18.0</td>\n",
       "      <td>0.0</td>\n",
       "      <td>0.0</td>\n",
       "      <td>0.0</td>\n",
       "      <td>2.0</td>\n",
       "      <td>...</td>\n",
       "      <td>6.0</td>\n",
       "      <td>3.0</td>\n",
       "      <td>1.0</td>\n",
       "      <td>58.0</td>\n",
       "      <td>1172.0</td>\n",
       "      <td>2.0</td>\n",
       "      <td>57.0</td>\n",
       "      <td>8.0</td>\n",
       "      <td>80.0</td>\n",
       "      <td>2.0</td>\n",
       "    </tr>\n",
       "    <tr>\n",
       "      <th>q-bio.BM</th>\n",
       "      <td>33.0</td>\n",
       "      <td>0.0</td>\n",
       "      <td>0.0</td>\n",
       "      <td>0.0</td>\n",
       "      <td>0.0</td>\n",
       "      <td>14.0</td>\n",
       "      <td>2.0</td>\n",
       "      <td>0.0</td>\n",
       "      <td>0.0</td>\n",
       "      <td>0.0</td>\n",
       "      <td>...</td>\n",
       "      <td>84.0</td>\n",
       "      <td>0.0</td>\n",
       "      <td>6.0</td>\n",
       "      <td>10.0</td>\n",
       "      <td>0.0</td>\n",
       "      <td>1.0</td>\n",
       "      <td>20.0</td>\n",
       "      <td>48.0</td>\n",
       "      <td>0.0</td>\n",
       "      <td>6.0</td>\n",
       "    </tr>\n",
       "    <tr>\n",
       "      <th>q-fin.GN</th>\n",
       "      <td>0.0</td>\n",
       "      <td>5.0</td>\n",
       "      <td>0.0</td>\n",
       "      <td>0.0</td>\n",
       "      <td>0.0</td>\n",
       "      <td>41.0</td>\n",
       "      <td>2.0</td>\n",
       "      <td>49.0</td>\n",
       "      <td>18.0</td>\n",
       "      <td>2.0</td>\n",
       "      <td>...</td>\n",
       "      <td>9.0</td>\n",
       "      <td>122.0</td>\n",
       "      <td>0.0</td>\n",
       "      <td>3.0</td>\n",
       "      <td>3.0</td>\n",
       "      <td>0.0</td>\n",
       "      <td>90.0</td>\n",
       "      <td>22.0</td>\n",
       "      <td>6.0</td>\n",
       "      <td>0.0</td>\n",
       "    </tr>\n",
       "    <tr>\n",
       "      <th>cond-mat.supr-con</th>\n",
       "      <td>0.0</td>\n",
       "      <td>0.0</td>\n",
       "      <td>0.0</td>\n",
       "      <td>0.0</td>\n",
       "      <td>0.0</td>\n",
       "      <td>0.0</td>\n",
       "      <td>377.0</td>\n",
       "      <td>0.0</td>\n",
       "      <td>0.0</td>\n",
       "      <td>0.0</td>\n",
       "      <td>...</td>\n",
       "      <td>68.0</td>\n",
       "      <td>0.0</td>\n",
       "      <td>0.0</td>\n",
       "      <td>1.0</td>\n",
       "      <td>0.0</td>\n",
       "      <td>0.0</td>\n",
       "      <td>10.0</td>\n",
       "      <td>524.0</td>\n",
       "      <td>1.0</td>\n",
       "      <td>3.0</td>\n",
       "    </tr>\n",
       "  </tbody>\n",
       "</table>\n",
       "<p>5 rows × 175 columns</p>\n",
       "</div>"
      ],
      "text/plain": [
       "                   q-bio.CB  cs.IR  q-bio.BM  q-fin.GN  cond-mat.supr-con  \\\n",
       "q-bio.CB                0.0    0.0      33.0       0.0                0.0   \n",
       "cs.IR                   0.0    0.0       0.0       5.0                0.0   \n",
       "q-bio.BM               33.0    0.0       0.0       0.0                0.0   \n",
       "q-fin.GN                0.0    5.0       0.0       0.0                0.0   \n",
       "cond-mat.supr-con       0.0    0.0       0.0       0.0                0.0   \n",
       "\n",
       "                   math.OC  nucl-th  q-fin.TR  econ.EM  cs.LO  ...  \\\n",
       "q-bio.CB               6.0      0.0       0.0      0.0    1.0  ...   \n",
       "cs.IR                 18.0      0.0       0.0      0.0    2.0  ...   \n",
       "q-bio.BM              14.0      2.0       0.0      0.0    0.0  ...   \n",
       "q-fin.GN              41.0      2.0      49.0     18.0    2.0  ...   \n",
       "cond-mat.supr-con      0.0    377.0       0.0      0.0    0.0  ...   \n",
       "\n",
       "                   physics.comp-ph  q-fin.ST  cs.FL  cs.IT   cs.CL  math.CT  \\\n",
       "q-bio.CB                      16.0       0.0    0.0    2.0     0.0      0.0   \n",
       "cs.IR                          6.0       3.0    1.0   58.0  1172.0      2.0   \n",
       "q-bio.BM                      84.0       0.0    6.0   10.0     0.0      1.0   \n",
       "q-fin.GN                       9.0     122.0    0.0    3.0     3.0      0.0   \n",
       "cond-mat.supr-con             68.0       0.0    0.0    1.0     0.0      0.0   \n",
       "\n",
       "                   physics.data-an  cond-mat.dis-nn  cs.CR  cs.ET  \n",
       "q-bio.CB                       3.0             28.0    1.0    3.0  \n",
       "cs.IR                         57.0              8.0   80.0    2.0  \n",
       "q-bio.BM                      20.0             48.0    0.0    6.0  \n",
       "q-fin.GN                      90.0             22.0    6.0    0.0  \n",
       "cond-mat.supr-con             10.0            524.0    1.0    3.0  \n",
       "\n",
       "[5 rows x 175 columns]"
      ]
     },
     "execution_count": 24,
     "metadata": {},
     "output_type": "execute_result"
    }
   ],
   "source": [
    "co_edges_df.head()"
   ]
  },
  {
   "cell_type": "code",
   "execution_count": 25,
   "id": "fd4a9b9d",
   "metadata": {},
   "outputs": [
    {
     "data": {
      "text/html": [
       "<div>\n",
       "<style scoped>\n",
       "    .dataframe tbody tr th:only-of-type {\n",
       "        vertical-align: middle;\n",
       "    }\n",
       "\n",
       "    .dataframe tbody tr th {\n",
       "        vertical-align: top;\n",
       "    }\n",
       "\n",
       "    .dataframe thead th {\n",
       "        text-align: right;\n",
       "    }\n",
       "</style>\n",
       "<table border=\"1\" class=\"dataframe\">\n",
       "  <thead>\n",
       "    <tr style=\"text-align: right;\">\n",
       "      <th></th>\n",
       "      <th>q-bio.CB</th>\n",
       "      <th>cs.IR</th>\n",
       "      <th>q-bio.BM</th>\n",
       "      <th>q-fin.GN</th>\n",
       "      <th>cond-mat.supr-con</th>\n",
       "      <th>math.OC</th>\n",
       "      <th>nucl-th</th>\n",
       "      <th>q-fin.TR</th>\n",
       "      <th>econ.EM</th>\n",
       "      <th>cs.LO</th>\n",
       "      <th>...</th>\n",
       "      <th>physics.comp-ph</th>\n",
       "      <th>q-fin.ST</th>\n",
       "      <th>cs.FL</th>\n",
       "      <th>cs.IT</th>\n",
       "      <th>cs.CL</th>\n",
       "      <th>math.CT</th>\n",
       "      <th>physics.data-an</th>\n",
       "      <th>cond-mat.dis-nn</th>\n",
       "      <th>cs.CR</th>\n",
       "      <th>cs.ET</th>\n",
       "    </tr>\n",
       "  </thead>\n",
       "  <tbody>\n",
       "    <tr>\n",
       "      <th>q-bio.CB</th>\n",
       "      <td>318.041124</td>\n",
       "      <td>-0.000000</td>\n",
       "      <td>20.700768</td>\n",
       "      <td>-0.000000</td>\n",
       "      <td>-0.000000</td>\n",
       "      <td>2.889789e-05</td>\n",
       "      <td>-0.0</td>\n",
       "      <td>0.000000</td>\n",
       "      <td>3.810482e-11</td>\n",
       "      <td>5.411220e-05</td>\n",
       "      <td>...</td>\n",
       "      <td>1.037843e+00</td>\n",
       "      <td>-0.000000</td>\n",
       "      <td>-0.000000</td>\n",
       "      <td>1.050505e-11</td>\n",
       "      <td>-0.000000</td>\n",
       "      <td>-0.000000e+00</td>\n",
       "      <td>0.017119</td>\n",
       "      <td>2.089468</td>\n",
       "      <td>0.000016</td>\n",
       "      <td>7.633177e-01</td>\n",
       "    </tr>\n",
       "    <tr>\n",
       "      <th>cs.IR</th>\n",
       "      <td>-0.000000</td>\n",
       "      <td>318.041124</td>\n",
       "      <td>-0.000000</td>\n",
       "      <td>0.117135</td>\n",
       "      <td>-0.000000</td>\n",
       "      <td>5.255585e-15</td>\n",
       "      <td>-0.0</td>\n",
       "      <td>-0.000000</td>\n",
       "      <td>-0.000000e+00</td>\n",
       "      <td>1.966264e-13</td>\n",
       "      <td>...</td>\n",
       "      <td>3.645929e-12</td>\n",
       "      <td>0.008363</td>\n",
       "      <td>0.000047</td>\n",
       "      <td>2.041285e-06</td>\n",
       "      <td>318.041124</td>\n",
       "      <td>2.239133e-07</td>\n",
       "      <td>8.509811</td>\n",
       "      <td>-0.000000</td>\n",
       "      <td>9.786374</td>\n",
       "      <td>1.699131e-02</td>\n",
       "    </tr>\n",
       "    <tr>\n",
       "      <th>q-bio.BM</th>\n",
       "      <td>20.700768</td>\n",
       "      <td>-0.000000</td>\n",
       "      <td>318.041124</td>\n",
       "      <td>-0.000000</td>\n",
       "      <td>-0.000000</td>\n",
       "      <td>1.676403e-09</td>\n",
       "      <td>-0.0</td>\n",
       "      <td>-0.000000</td>\n",
       "      <td>-0.000000e+00</td>\n",
       "      <td>-0.000000e+00</td>\n",
       "      <td>...</td>\n",
       "      <td>1.922139e+01</td>\n",
       "      <td>-0.000000</td>\n",
       "      <td>0.251176</td>\n",
       "      <td>-0.000000e+00</td>\n",
       "      <td>-0.000000</td>\n",
       "      <td>4.313869e-06</td>\n",
       "      <td>0.797851</td>\n",
       "      <td>0.948332</td>\n",
       "      <td>-0.000000</td>\n",
       "      <td>9.109451e-01</td>\n",
       "    </tr>\n",
       "    <tr>\n",
       "      <th>q-fin.GN</th>\n",
       "      <td>-0.000000</td>\n",
       "      <td>0.117135</td>\n",
       "      <td>-0.000000</td>\n",
       "      <td>318.041124</td>\n",
       "      <td>-0.000000</td>\n",
       "      <td>2.949520e+00</td>\n",
       "      <td>-0.0</td>\n",
       "      <td>60.857073</td>\n",
       "      <td>1.880289e+01</td>\n",
       "      <td>9.369633e-05</td>\n",
       "      <td>...</td>\n",
       "      <td>3.782020e-02</td>\n",
       "      <td>156.849042</td>\n",
       "      <td>-0.000000</td>\n",
       "      <td>5.636976e-13</td>\n",
       "      <td>0.000024</td>\n",
       "      <td>-0.000000e+00</td>\n",
       "      <td>61.100701</td>\n",
       "      <td>0.390767</td>\n",
       "      <td>0.006893</td>\n",
       "      <td>-0.000000e+00</td>\n",
       "    </tr>\n",
       "    <tr>\n",
       "      <th>cond-mat.supr-con</th>\n",
       "      <td>-0.000000</td>\n",
       "      <td>-0.000000</td>\n",
       "      <td>-0.000000</td>\n",
       "      <td>-0.000000</td>\n",
       "      <td>318.041124</td>\n",
       "      <td>-0.000000e+00</td>\n",
       "      <td>-0.0</td>\n",
       "      <td>-0.000000</td>\n",
       "      <td>-0.000000e+00</td>\n",
       "      <td>-0.000000e+00</td>\n",
       "      <td>...</td>\n",
       "      <td>-0.000000e+00</td>\n",
       "      <td>-0.000000</td>\n",
       "      <td>-0.000000</td>\n",
       "      <td>-0.000000e+00</td>\n",
       "      <td>-0.000000</td>\n",
       "      <td>-0.000000e+00</td>\n",
       "      <td>-0.000000</td>\n",
       "      <td>12.773864</td>\n",
       "      <td>-0.000000</td>\n",
       "      <td>2.929530e-12</td>\n",
       "    </tr>\n",
       "  </tbody>\n",
       "</table>\n",
       "<p>5 rows × 175 columns</p>\n",
       "</div>"
      ],
      "text/plain": [
       "                     q-bio.CB       cs.IR    q-bio.BM    q-fin.GN  \\\n",
       "q-bio.CB           318.041124   -0.000000   20.700768   -0.000000   \n",
       "cs.IR               -0.000000  318.041124   -0.000000    0.117135   \n",
       "q-bio.BM            20.700768   -0.000000  318.041124   -0.000000   \n",
       "q-fin.GN            -0.000000    0.117135   -0.000000  318.041124   \n",
       "cond-mat.supr-con   -0.000000   -0.000000   -0.000000   -0.000000   \n",
       "\n",
       "                   cond-mat.supr-con       math.OC  nucl-th   q-fin.TR  \\\n",
       "q-bio.CB                   -0.000000  2.889789e-05     -0.0   0.000000   \n",
       "cs.IR                      -0.000000  5.255585e-15     -0.0  -0.000000   \n",
       "q-bio.BM                   -0.000000  1.676403e-09     -0.0  -0.000000   \n",
       "q-fin.GN                   -0.000000  2.949520e+00     -0.0  60.857073   \n",
       "cond-mat.supr-con         318.041124 -0.000000e+00     -0.0  -0.000000   \n",
       "\n",
       "                        econ.EM         cs.LO  ...  physics.comp-ph  \\\n",
       "q-bio.CB           3.810482e-11  5.411220e-05  ...     1.037843e+00   \n",
       "cs.IR             -0.000000e+00  1.966264e-13  ...     3.645929e-12   \n",
       "q-bio.BM          -0.000000e+00 -0.000000e+00  ...     1.922139e+01   \n",
       "q-fin.GN           1.880289e+01  9.369633e-05  ...     3.782020e-02   \n",
       "cond-mat.supr-con -0.000000e+00 -0.000000e+00  ...    -0.000000e+00   \n",
       "\n",
       "                     q-fin.ST     cs.FL         cs.IT       cs.CL  \\\n",
       "q-bio.CB            -0.000000 -0.000000  1.050505e-11   -0.000000   \n",
       "cs.IR                0.008363  0.000047  2.041285e-06  318.041124   \n",
       "q-bio.BM            -0.000000  0.251176 -0.000000e+00   -0.000000   \n",
       "q-fin.GN           156.849042 -0.000000  5.636976e-13    0.000024   \n",
       "cond-mat.supr-con   -0.000000 -0.000000 -0.000000e+00   -0.000000   \n",
       "\n",
       "                        math.CT  physics.data-an  cond-mat.dis-nn     cs.CR  \\\n",
       "q-bio.CB          -0.000000e+00         0.017119         2.089468  0.000016   \n",
       "cs.IR              2.239133e-07         8.509811        -0.000000  9.786374   \n",
       "q-bio.BM           4.313869e-06         0.797851         0.948332 -0.000000   \n",
       "q-fin.GN          -0.000000e+00        61.100701         0.390767  0.006893   \n",
       "cond-mat.supr-con -0.000000e+00        -0.000000        12.773864 -0.000000   \n",
       "\n",
       "                          cs.ET  \n",
       "q-bio.CB           7.633177e-01  \n",
       "cs.IR              1.699131e-02  \n",
       "q-bio.BM           9.109451e-01  \n",
       "q-fin.GN          -0.000000e+00  \n",
       "cond-mat.supr-con  2.929530e-12  \n",
       "\n",
       "[5 rows x 175 columns]"
      ]
     },
     "execution_count": 25,
     "metadata": {},
     "output_type": "execute_result"
    }
   ],
   "source": [
    "hyper_edges_df = pd.DataFrame(M_hyper_log,columns = tags_u, index=tags_u)\n",
    "\n",
    "hyper_edges_df.head()"
   ]
  },
  {
   "cell_type": "code",
   "execution_count": 31,
   "id": "63a6eef9",
   "metadata": {},
   "outputs": [
    {
     "data": {
      "text/plain": [
       "(175, 175)"
      ]
     },
     "execution_count": 31,
     "metadata": {},
     "output_type": "execute_result"
    }
   ],
   "source": [
    "hyper_edges_df.shape"
   ]
  },
  {
   "cell_type": "code",
   "execution_count": 26,
   "id": "6da0a427",
   "metadata": {},
   "outputs": [],
   "source": [
    "hyper_edges_df.to_csv('Hyper/hyper_edges_df.csv')"
   ]
  }
 ],
 "metadata": {
  "kernelspec": {
   "display_name": "Python 3 (ipykernel)",
   "language": "python",
   "name": "python3"
  },
  "language_info": {
   "codemirror_mode": {
    "name": "ipython",
    "version": 3
   },
   "file_extension": ".py",
   "mimetype": "text/x-python",
   "name": "python",
   "nbconvert_exporter": "python",
   "pygments_lexer": "ipython3",
   "version": "3.9.14"
  }
 },
 "nbformat": 4,
 "nbformat_minor": 5
}
